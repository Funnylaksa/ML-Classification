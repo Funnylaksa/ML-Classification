{
 "cells": [
  {
   "cell_type": "markdown",
   "metadata": {},
   "source": [
    "## Data prep and Logistic regression"
   ]
  },
  {
   "cell_type": "code",
   "execution_count": 1,
   "metadata": {},
   "outputs": [],
   "source": [
    "import time\n",
    "import os\n",
    "\n",
    "import IPython.display as ipd\n",
    "# from tqdm import tqdm_notebook\n",
    "from tqdm import notebook\n",
    "import numpy as np\n",
    "import pandas as pd\n",
    "import keras\n",
    "from keras.layers import Activation, Dense, Conv1D, Conv2D, MaxPooling1D, Flatten, Reshape\n",
    "\n",
    "from sklearn.utils import shuffle\n",
    "from sklearn.preprocessing import MultiLabelBinarizer, LabelEncoder, LabelBinarizer, StandardScaler\n",
    "from sklearn.linear_model import LogisticRegression\n",
    "from sklearn.neighbors import KNeighborsClassifier\n",
    "from sklearn.svm import SVC, LinearSVC\n",
    "#from sklearn.gaussian_process import GaussianProcessClassifier\n",
    "#from sklearn.gaussian_process.kernels import RBF\n",
    "from sklearn.tree import DecisionTreeClassifier\n",
    "from sklearn.ensemble import RandomForestClassifier, AdaBoostClassifier\n",
    "from sklearn.neural_network import MLPClassifier\n",
    "from sklearn.naive_bayes import GaussianNB\n",
    "from sklearn.discriminant_analysis import QuadraticDiscriminantAnalysis\n",
    "from sklearn.multiclass import OneVsRestClassifier\n",
    "\n",
    "from sklearn import svm, datasets\n",
    "from sklearn.metrics import roc_curve, auc\n",
    "from sklearn.model_selection import train_test_split\n",
    "from sklearn.preprocessing import label_binarize\n",
    "\n",
    "from scipy import interp\n",
    "from sklearn.metrics import roc_auc_score\n",
    "\n",
    "import utils\n",
    "\n",
    "# from catboost import CatBoostClassifier\n",
    "import collections\n",
    "from imblearn.over_sampling import RandomOverSampler\n",
    "from imblearn.under_sampling import RandomUnderSampler\n",
    "from imblearn.over_sampling import SMOTE\n",
    "\n",
    "from sklearn.decomposition import PCA\n",
    "import matplotlib.pyplot as plt"
   ]
  },
  {
   "cell_type": "code",
   "execution_count": 2,
   "metadata": {},
   "outputs": [],
   "source": [
    "import os\n",
    "os.environ['CUDA_DEVICE_ORDER'] = 'PCI_BUS_ID'\n",
    "os.environ['CUDA_VISIBLE_DEVICES'] = \"8\" #please put your GPU"
   ]
  },
  {
   "cell_type": "code",
   "execution_count": 3,
   "metadata": {},
   "outputs": [
    {
     "data": {
      "text/plain": [
       "((106574, 52), (106574, 518), (13129, 249), (163, 4))"
      ]
     },
     "execution_count": 3,
     "metadata": {},
     "output_type": "execute_result"
    }
   ],
   "source": [
    "tracks = utils.load('tracks.csv')\n",
    "features = utils.load('features.csv')\n",
    "echonest = utils.load('echonest.csv')\n",
    "genres = utils.load('genres.csv')\n",
    "\n",
    "tracks.shape, features.shape, echonest.shape, genres.shape"
   ]
  },
  {
   "cell_type": "code",
   "execution_count": 4,
   "metadata": {},
   "outputs": [],
   "source": [
    "# !ls /aml/notebook/audio/fma_small/153\n",
    "# Audio(\"/aml/notebook/audio/fma_small/153/153452.mp3\", autoplay=True)"
   ]
  },
  {
   "cell_type": "markdown",
   "metadata": {},
   "source": [
    "# Preprocessing"
   ]
  },
  {
   "cell_type": "code",
   "execution_count": 34,
   "metadata": {},
   "outputs": [],
   "source": [
    "#def map_genre_id(genre_top):\n",
    "#    genre_id = genres[genres.title==genre_top].index.values.astype(int)[0]\n",
    "#    return genre_id\n",
    "\n",
    "\n",
    "def preprocess(df):\n",
    "    # Add genre_top, split, subset from track to features\n",
    "    df_tracks = tracks\n",
    "    genre_top = df_tracks.track.genre_top\n",
    "    split = df_tracks.set.split\n",
    "    subset = df_tracks.set.subset\n",
    "    df = pd.concat([df, genre_top, split, subset], axis=1)\n",
    "    df = df.dropna(subset=['genre_top'])\n",
    "    \n",
    "    # Remove genres with less than 1000 entries\n",
    "#     counts = df['genre_top'].value_counts()\n",
    "#     df = df[~df['genre_top'].isin(counts[counts < 1000].index)]\n",
    "#     df.genre_top.unique()\n",
    "    return df\n",
    "\n",
    "\n",
    "def oversampling(X, y):\n",
    "    print('before oversampling:', collections.Counter(y))\n",
    "    \n",
    "    oversample = RandomOverSampler(sampling_strategy='auto')\n",
    "    X_over, y_over = oversample.fit_resample(X, y)\n",
    "    a = np.array(y_over)\n",
    "    print('after oversampling:', collections.Counter(a))\n",
    "    \n",
    "    y_over = pd.Series(y_over)\n",
    "    return X_over, y_over\n",
    "\n",
    "\n",
    "def undersampling(X, y):\n",
    "    print('before undersampling:', collections.Counter(y))\n",
    "    \n",
    "    undersample = RandomUnderSampler(sampling_strategy='auto')\n",
    "    X_under, y_under = undersample.fit_resample(X, y)\n",
    "    a = np.array(y_under)\n",
    "    print('after undersampling:', collections.Counter(a))\n",
    "    \n",
    "    y_under = pd.Series(y_under)\n",
    "    return X_under, y_under\n",
    "\n",
    "\n",
    "def mixsampling(X, y):\n",
    "    strategy = {'Hip-Hop':6000, 'Folk':6000, 'Pop':6000, 'Instrumental':6000, 'Classical':6000, 'International':6000}\n",
    "    print('before sampling:', collections.Counter(y))\n",
    "    smote=SMOTE(sampling_strategy=strategy)\n",
    "    X, y=smote.fit_resample(X, y)\n",
    "    print('after oversampling:', collections.Counter(y))\n",
    "    \n",
    "    strategy = {'Rock':6000, 'Experimental':6000, 'Electronic':6000}\n",
    "    undersample = RandomUnderSampler(sampling_strategy=strategy)\n",
    "    X, y = undersample.fit_resample(X, y)\n",
    "    print('after undersampling:', collections.Counter(y))\n",
    "    return X, y\n",
    "\n",
    "\n",
    "def apply_PCA(df):   \n",
    "    # Keep needed features, to be added back after PCA\n",
    "    genre_top = df.genre_top\n",
    "    index = df.index\n",
    "    split = df.split\n",
    "    subset = df.subset\n",
    "    df = df.drop(columns=['genre_top', 'split', 'subset'])\n",
    "\n",
    "    # Scale the features and set the values to a new variable\n",
    "    scaler = StandardScaler()\n",
    "    scaled_train_features = scaler.fit_transform(df)\n",
    "    \n",
    "    # Get our explained variance ratios from PCA using all features\n",
    "    pca = PCA(n_components = 0.95)\n",
    "    pca.fit(scaled_train_features)\n",
    "    exp_variance = pca.explained_variance_ratio_\n",
    "    reduced = pca.transform(scaled_train_features)\n",
    "\n",
    "    # plot the explained variance using a barplot\n",
    "    fig, ax = plt.subplots(figsize=(15, 15))\n",
    "    ax.bar(range(pca.n_components_), exp_variance)\n",
    "    ax.set_xlabel('Principal Component #')\n",
    "    \n",
    "    df = pd.DataFrame(reduced)\n",
    "    df.index = index\n",
    "    df = pd.concat([df, genre_top, split, subset], axis=1)\n",
    "    return df"
   ]
  },
  {
   "cell_type": "code",
   "execution_count": 35,
   "metadata": {},
   "outputs": [
    {
     "data": {
      "image/png": "[encoded data removed]",
      "text/plain": [
       "<Figure size 1080x1080 with 1 Axes>"
      ]
     },
     "metadata": {
      "needs_background": "light"
     },
     "output_type": "display_data"
    }
   ],
   "source": [
    "df_processed = preprocess(features)\n",
    "df_postPCA = apply_PCA(df_processed)\n",
    "\n",
    "# X = df_processed.drop(columns=['genre_top', 'split', 'subset'])\n",
    "# y = df_processed['genre_top','split']\n",
    "# X_train, X_test, y_train, y_test = model_selection.train_test_split(X, y)"
   ]
  },
  {
   "cell_type": "code",
   "execution_count": 37,
   "metadata": {},
   "outputs": [],
   "source": [
    "symbols = df_postPCA.groupby('genre_top')"
   ]
  },
  {
   "cell_type": "code",
   "execution_count": 38,
   "metadata": {},
   "outputs": [
    {
     "data": {
      "text/html": [
       "<div>\n",
       "<style scoped>\n",
       "    .dataframe tbody tr th:only-of-type {\n",
       "        vertical-align: middle;\n",
       "    }\n",
       "\n",
       "    .dataframe tbody tr th {\n",
       "        vertical-align: top;\n",
       "    }\n",
       "\n",
       "    .dataframe thead th {\n",
       "        text-align: right;\n",
       "    }\n",
       "</style>\n",
       "<table border=\"1\" class=\"dataframe\">\n",
       "  <thead>\n",
       "    <tr style=\"text-align: right;\">\n",
       "      <th></th>\n",
       "      <th>count</th>\n",
       "    </tr>\n",
       "    <tr>\n",
       "      <th>genre_top</th>\n",
       "      <th></th>\n",
       "    </tr>\n",
       "  </thead>\n",
       "  <tbody>\n",
       "    <tr>\n",
       "      <th>Rock</th>\n",
       "      <td>14182</td>\n",
       "    </tr>\n",
       "    <tr>\n",
       "      <th>Experimental</th>\n",
       "      <td>10608</td>\n",
       "    </tr>\n",
       "    <tr>\n",
       "      <th>Electronic</th>\n",
       "      <td>9372</td>\n",
       "    </tr>\n",
       "    <tr>\n",
       "      <th>Hip-Hop</th>\n",
       "      <td>3552</td>\n",
       "    </tr>\n",
       "    <tr>\n",
       "      <th>Folk</th>\n",
       "      <td>2803</td>\n",
       "    </tr>\n",
       "    <tr>\n",
       "      <th>Pop</th>\n",
       "      <td>2332</td>\n",
       "    </tr>\n",
       "    <tr>\n",
       "      <th>Instrumental</th>\n",
       "      <td>2079</td>\n",
       "    </tr>\n",
       "    <tr>\n",
       "      <th>International</th>\n",
       "      <td>1389</td>\n",
       "    </tr>\n",
       "    <tr>\n",
       "      <th>Classical</th>\n",
       "      <td>1230</td>\n",
       "    </tr>\n",
       "    <tr>\n",
       "      <th>Jazz</th>\n",
       "      <td>571</td>\n",
       "    </tr>\n",
       "    <tr>\n",
       "      <th>Old-Time / Historic</th>\n",
       "      <td>554</td>\n",
       "    </tr>\n",
       "    <tr>\n",
       "      <th>Spoken</th>\n",
       "      <td>423</td>\n",
       "    </tr>\n",
       "    <tr>\n",
       "      <th>Country</th>\n",
       "      <td>194</td>\n",
       "    </tr>\n",
       "    <tr>\n",
       "      <th>Soul-RnB</th>\n",
       "      <td>175</td>\n",
       "    </tr>\n",
       "    <tr>\n",
       "      <th>Blues</th>\n",
       "      <td>110</td>\n",
       "    </tr>\n",
       "    <tr>\n",
       "      <th>Easy Listening</th>\n",
       "      <td>24</td>\n",
       "    </tr>\n",
       "  </tbody>\n",
       "</table>\n",
       "</div>"
      ],
      "text/plain": [
       "                     count\n",
       "genre_top                 \n",
       "Rock                 14182\n",
       "Experimental         10608\n",
       "Electronic            9372\n",
       "Hip-Hop               3552\n",
       "Folk                  2803\n",
       "Pop                   2332\n",
       "Instrumental          2079\n",
       "International         1389\n",
       "Classical             1230\n",
       "Jazz                   571\n",
       "Old-Time / Historic    554\n",
       "Spoken                 423\n",
       "Country                194\n",
       "Soul-RnB               175\n",
       "Blues                  110\n",
       "Easy Listening          24"
      ]
     },
     "execution_count": 38,
     "metadata": {},
     "output_type": "execute_result"
    }
   ],
   "source": [
    "symbols['genre_top'].agg(['count']).sort_values(['count'], ascending=False)"
   ]
  },
  {
   "cell_type": "code",
   "execution_count": 7,
   "metadata": {},
   "outputs": [
    {
     "data": {
      "text/plain": [
       "(47547, 521)"
      ]
     },
     "execution_count": 7,
     "metadata": {},
     "output_type": "execute_result"
    }
   ],
   "source": [
    "df_processed.shape"
   ]
  },
  {
   "cell_type": "code",
   "execution_count": 8,
   "metadata": {},
   "outputs": [
    {
     "data": {
      "text/plain": [
       "(47547, 216)"
      ]
     },
     "execution_count": 8,
     "metadata": {},
     "output_type": "execute_result"
    }
   ],
   "source": [
    "df_postPCA.shape"
   ]
  },
  {
   "cell_type": "code",
   "execution_count": 9,
   "metadata": {},
   "outputs": [],
   "source": [
    "# df_postPCA[\"genre_top\"].groupby().agg(['count'])"
   ]
  },
  {
   "cell_type": "code",
   "execution_count": 10,
   "metadata": {},
   "outputs": [],
   "source": [
    "# X_train = df_processed[df_processed['split'] == 'training'].drop(columns=['genre_top', 'split', 'subset'])\n",
    "# X_val= df_processed[df_processed['split'] == 'validation'].drop(columns=['genre_top', 'split', 'subset'])\n",
    "# X_test = df_processed[df_processed['split'] == 'test'].drop(columns=['genre_top', 'split', 'subset'])\n",
    "\n",
    "# y_train = df_processed[df_processed['split'] == 'training']['genre_top']\n",
    "# y_val= df_processed[df_processed['split'] == 'validation']['genre_top']\n",
    "# y_test = df_processed[df_processed['split'] == 'test']['genre_top']\n"
   ]
  },
  {
   "cell_type": "code",
   "execution_count": 11,
   "metadata": {},
   "outputs": [],
   "source": [
    "X_train = df_postPCA[df_postPCA['split'] == 'training'].drop(columns=['genre_top', 'split', 'subset'])\n",
    "X_val= df_postPCA[df_postPCA['split'] == 'validation'].drop(columns=['genre_top', 'split', 'subset'])\n",
    "X_test = df_postPCA[df_postPCA['split'] == 'test'].drop(columns=['genre_top', 'split', 'subset'])\n",
    "\n",
    "y_train = df_postPCA[df_postPCA['split'] == 'training']['genre_top']\n",
    "y_val= df_postPCA[df_postPCA['split'] == 'validation']['genre_top']\n",
    "y_test = df_postPCA[df_postPCA['split'] == 'test']['genre_top']\n"
   ]
  },
  {
   "cell_type": "code",
   "execution_count": 12,
   "metadata": {},
   "outputs": [
    {
     "name": "stdout",
     "output_type": "stream",
     "text": [
      "before oversampling: Counter({'Rock': 11394, 'Experimental': 8557, 'Electronic': 7662, 'Hip-Hop': 2910, 'Folk': 2275, 'Pop': 1815, 'Instrumental': 1579, 'International': 1124, 'Classical': 1069})\n",
      "after oversampling: Counter({'Hip-Hop': 11394, 'Pop': 11394, 'Rock': 11394, 'Experimental': 11394, 'Folk': 11394, 'Electronic': 11394, 'International': 11394, 'Classical': 11394, 'Instrumental': 11394})\n"
     ]
    }
   ],
   "source": [
    "X_over, y_over = oversampling(X_train, y_train)"
   ]
  },
  {
   "cell_type": "code",
   "execution_count": 13,
   "metadata": {},
   "outputs": [
    {
     "name": "stdout",
     "output_type": "stream",
     "text": [
      "before undersampling: Counter({'Rock': 11394, 'Experimental': 8557, 'Electronic': 7662, 'Hip-Hop': 2910, 'Folk': 2275, 'Pop': 1815, 'Instrumental': 1579, 'International': 1124, 'Classical': 1069})\n",
      "after undersampling: Counter({'Classical': 1069, 'Electronic': 1069, 'Experimental': 1069, 'Folk': 1069, 'Hip-Hop': 1069, 'Instrumental': 1069, 'International': 1069, 'Pop': 1069, 'Rock': 1069})\n"
     ]
    }
   ],
   "source": [
    "X_under, y_under = undersampling(X_train, y_train)"
   ]
  },
  {
   "cell_type": "code",
   "execution_count": 14,
   "metadata": {},
   "outputs": [
    {
     "name": "stdout",
     "output_type": "stream",
     "text": [
      "before sampling: Counter({'Rock': 11394, 'Experimental': 8557, 'Electronic': 7662, 'Hip-Hop': 2910, 'Folk': 2275, 'Pop': 1815, 'Instrumental': 1579, 'International': 1124, 'Classical': 1069})\n",
      "after oversampling: Counter({'Rock': 11394, 'Experimental': 8557, 'Electronic': 7662, 'Hip-Hop': 6000, 'Pop': 6000, 'Folk': 6000, 'International': 6000, 'Classical': 6000, 'Instrumental': 6000})\n",
      "after undersampling: Counter({'Classical': 6000, 'Electronic': 6000, 'Experimental': 6000, 'Folk': 6000, 'Hip-Hop': 6000, 'Instrumental': 6000, 'International': 6000, 'Pop': 6000, 'Rock': 6000})\n"
     ]
    }
   ],
   "source": [
    "X_mix, y_mix = mixsampling(X_train, y_train)"
   ]
  },
  {
   "cell_type": "markdown",
   "metadata": {},
   "source": [
    "## Logistic Regression"
   ]
  },
  {
   "cell_type": "markdown",
   "metadata": {},
   "source": [
    "### OVR"
   ]
  },
  {
   "cell_type": "markdown",
   "metadata": {},
   "source": [
    "### No sampling"
   ]
  },
  {
   "cell_type": "code",
   "execution_count": null,
   "metadata": {},
   "outputs": [],
   "source": [
    "# Grid search cross validation\n",
    "# from sklearn.model_selection import GridSearchCV\n",
    "# from sklearn.linear_model import LogisticRegression\n",
    "# grid={\"C\":np.logspace(-3,3,7), \"penalty\":[\"l1\",\"l2\"]}# l1 lasso l2 ridge\n",
    "# logreg=LogisticRegression()\n",
    "# logreg_cv=GridSearchCV(logreg,grid,cv=10)\n",
    "# logreg_cv.fit(X_train,y_train)\n",
    "\n",
    "# print(\"tuned hpyerparameters :(best parameters) \",logreg_cv.best_params_)\n",
    "# print(\"accuracy :\",logreg_cv.best_score_)"
   ]
  },
  {
   "cell_type": "code",
   "execution_count": null,
   "metadata": {},
   "outputs": [],
   "source": [
    "# Grid search cross validation\n",
    "\n",
    "from sklearn.model_selection import GridSearchCV\n",
    "from sklearn.linear_model import LogisticRegression\n",
    "grid={\"C\":np.logspace(-3,3,7), \"penalty\":[\"l2\",\"none\"]}# l1 lasso l2 ridge\n",
    "# grid={\"C\":np.logspace(-3,3,7), \"penalty\":[\"l1\",\"l2\"]}# l1 lasso l2 ridge\n",
    "#‘lbfgs’ only handle L2 or no penalty\n",
    "ovr_estimator = LogisticRegression(\n",
    "    solver='lbfgs',\n",
    "    multi_class='ovr', max_iter = 1000)\n",
    "ovr_estimator_cv=GridSearchCV(ovr_estimator,grid,cv=10)\n",
    "ovr_estimator_cv.fit(X_train,y_train)\n",
    "\n",
    "print(\"tuned hpyerparameters :(best parameters) \",ovr_estimator_cv.best_params_)\n",
    "print(\"accuracy :\",ovr_estimator_cv.best_score_)"
   ]
  },
  {
   "cell_type": "code",
   "execution_count": null,
   "metadata": {},
   "outputs": [],
   "source": [
    "from sklearn import linear_model, model_selection, metrics\n",
    "\n",
    "# Fit a multi-class logistic regression model with one-v.s.-rest\n",
    "ovr_estimator = linear_model.LogisticRegression(\n",
    "    solver='lbfgs',\n",
    "    multi_class='ovr',\n",
    "    C = 10.0, penalty = 'l2', max_iter = 1000)\n",
    "ovr_estimator.fit(X_train, y_train)\n",
    "\n",
    "ovr_predict = ovr_estimator.predict(X_test)\n",
    "ovr_predict_proba = ovr_estimator.predict_proba(X_test)\n",
    "\n",
    "ovr_report = f\"\"\"\n",
    "The evaluation report of OVR is:\n",
    "Confusion Matrix:\n",
    "{metrics.confusion_matrix(y_test, ovr_predict)}\n",
    "Accuracy: {round(metrics.accuracy_score(y_test, ovr_predict), 3)}\n",
    "\"\"\"\n",
    "print(ovr_report)\n",
    "print('The classification report of OVR:\\n {}'\n",
    "      .format(metrics.classification_report(y_test, ovr_predict)))"
   ]
  },
  {
   "cell_type": "code",
   "execution_count": null,
   "metadata": {},
   "outputs": [],
   "source": [
    "from sklearn import metrics\n",
    "from sklearn.metrics import plot_confusion_matrix\n",
    "\n",
    "print('accuracy:', metrics.accuracy_score(y_test, ovr_predict))\n",
    "fig, ax = plt.subplots(figsize=(12, 12))\n",
    "plot_confusion_matrix(ovr_estimator, X_test, y_test, ax=ax) "
   ]
  },
  {
   "cell_type": "code",
   "execution_count": null,
   "metadata": {},
   "outputs": [],
   "source": [
    "# def plot_confusion_matrix(cm, names, title='Confusion matrix', cmap=plt.cm.Blues):\n",
    "#     plt.imshow(cm, interpolation='nearest', cmap=cmap)\n",
    "#     plt.title(title)\n",
    "#     plt.colorbar()\n",
    "#     tick_marks = np.arange(len(names))\n",
    "#     plt.xticks(tick_marks, names, rotation=90)\n",
    "#     plt.yticks(tick_marks, names)\n",
    "#     plt.tight_layout()\n",
    "#     plt.ylabel('True label')\n",
    "#     plt.xlabel('Predicted label')"
   ]
  },
  {
   "cell_type": "code",
   "execution_count": null,
   "metadata": {},
   "outputs": [],
   "source": [
    "from itertools import product\n",
    "\n",
    "def plot_confusion_matrix(cm, names, title='FMA LR - Confusion matrix', cmap=plt.cm.Blues):\n",
    "    plt.imshow(cm, interpolation='nearest', cmap=cmap)\n",
    "    plt.title(title)\n",
    "    plt.colorbar()\n",
    "    tick_marks = np.arange(len(names))\n",
    "    plt.xticks(tick_marks, names, rotation=90)\n",
    "    plt.yticks(tick_marks, names)\n",
    "    \n",
    "    for i, j in product(range(cm.shape[0]), range(cm.shape[1])):\n",
    "        plt.text(j, i, cm[i, j],\n",
    "        horizontalalignment=\"center\",\n",
    "        color=\"white\" if cm[i, j] > 500 else \"black\")\n",
    "    \n",
    "    plt.tight_layout()\n",
    "    plt.ylabel('True label')\n",
    "    plt.xlabel('Predicted label')"
   ]
  },
  {
   "cell_type": "code",
   "execution_count": null,
   "metadata": {},
   "outputs": [],
   "source": [
    "labelNames = ['Rock', 'Experimental', 'Electronic', 'Hip-Hop', 'Folk', 'Pop', 'Instrumental', 'International', 'Classical']\n",
    "labelNames.sort()"
   ]
  },
  {
   "cell_type": "code",
   "execution_count": null,
   "metadata": {},
   "outputs": [],
   "source": [
    "nosample_confusion_matrix_ovr = metrics.confusion_matrix(y_test, ovr_predict)"
   ]
  },
  {
   "cell_type": "code",
   "execution_count": null,
   "metadata": {},
   "outputs": [],
   "source": [
    "print(nosample_confusion_matrix_ovr)\n",
    "plt.figure()\n",
    "plot_confusion_matrix(nosample_confusion_matrix_ovr, labelNames)\n",
    "plt.show()"
   ]
  },
  {
   "cell_type": "markdown",
   "metadata": {},
   "source": [
    "### Under sampling"
   ]
  },
  {
   "cell_type": "code",
   "execution_count": null,
   "metadata": {},
   "outputs": [],
   "source": [
    "# Grid search cross validation\n",
    "\n",
    "from sklearn.model_selection import GridSearchCV\n",
    "from sklearn.linear_model import LogisticRegression\n",
    "grid={\"C\":np.logspace(-3,3,7), \"penalty\":[\"l2\",\"none\"]}# l1 lasso l2 ridge\n",
    "# grid={\"C\":np.logspace(-3,3,7), \"penalty\":[\"l1\",\"l2\"]}# l1 lasso l2 ridge\n",
    "#‘lbfgs’ only handle L2 or no penalty\n",
    "ovr_estimator = LogisticRegression(\n",
    "    solver='lbfgs',\n",
    "    multi_class='ovr', max_iter = 1000)\n",
    "ovr_estimator_cv=GridSearchCV(ovr_estimator,grid,cv=10)\n",
    "ovr_estimator_cv.fit(X_under, y_under)\n",
    "\n",
    "print(\"tuned hpyerparameters :(best parameters) \",ovr_estimator_cv.best_params_)\n",
    "print(\"accuracy :\",ovr_estimator_cv.best_score_)"
   ]
  },
  {
   "cell_type": "code",
   "execution_count": null,
   "metadata": {},
   "outputs": [],
   "source": [
    "from sklearn import linear_model, model_selection, metrics\n",
    "\n",
    "# Fit a multi-class logistic regression model with one-v.s.-rest\n",
    "ovr_estimator = linear_model.LogisticRegression()\n",
    "#     solver='lbfgs',\n",
    "#     multi_class='ovr', \n",
    "#     C = 0.01, max_iter = 1000)\n",
    "ovr_estimator.fit(X_under, y_under)\n",
    "\n",
    "ovr_predict_under = ovr_estimator.predict(X_test)\n",
    "ovr_predict_under_proba = ovr_estimator.predict_proba(X_test)\n",
    "\n",
    "ovr_report = f\"\"\"\n",
    "The evaluation report of OVR is:\n",
    "Confusion Matrix:\n",
    "{metrics.confusion_matrix(y_test, ovr_predict_under)}\n",
    "Accuracy: {round(metrics.accuracy_score(y_test, ovr_predict_under), 3)}\n",
    "\"\"\"\n",
    "print(ovr_report)\n",
    "print('The classification report of OVR:\\n {}'\n",
    "      .format(metrics.classification_report(y_test, ovr_predict_under)))"
   ]
  },
  {
   "cell_type": "code",
   "execution_count": null,
   "metadata": {},
   "outputs": [],
   "source": [
    "from sklearn import metrics\n",
    "from sklearn.metrics import plot_confusion_matrix\n",
    "\n",
    "print('accuracy:', metrics.accuracy_score(y_test, ovr_predict_under))\n",
    "fig, ax = plt.subplots(figsize=(12, 12))\n",
    "plot_confusion_matrix(ovr_estimator, X_test, y_test, ax=ax) "
   ]
  },
  {
   "cell_type": "code",
   "execution_count": null,
   "metadata": {},
   "outputs": [],
   "source": [
    "# def plot_confusion_matrix(cm, names, title='Confusion matrix', cmap=plt.cm.Blues):\n",
    "#     plt.imshow(cm, interpolation='nearest', cmap=cmap)\n",
    "#     plt.title(title)\n",
    "#     plt.colorbar()\n",
    "#     tick_marks = np.arange(len(names))\n",
    "#     plt.xticks(tick_marks, names, rotation=90)\n",
    "#     plt.yticks(tick_marks, names)\n",
    "#     plt.tight_layout()\n",
    "#     plt.ylabel('True label')\n",
    "#     plt.xlabel('Predicted label')"
   ]
  },
  {
   "cell_type": "code",
   "execution_count": null,
   "metadata": {},
   "outputs": [],
   "source": [
    "from itertools import product\n",
    "\n",
    "def plot_confusion_matrix(cm, names, title='FMA LR - Confusion matrix', cmap=plt.cm.Blues):\n",
    "    plt.imshow(cm, interpolation='nearest', cmap=cmap)\n",
    "    plt.title(title)\n",
    "    plt.colorbar()\n",
    "    tick_marks = np.arange(len(names))\n",
    "    plt.xticks(tick_marks, names, rotation=90)\n",
    "    plt.yticks(tick_marks, names)\n",
    "    \n",
    "    for i, j in product(range(cm.shape[0]), range(cm.shape[1])):\n",
    "        plt.text(j, i, cm[i, j],\n",
    "        horizontalalignment=\"center\",\n",
    "        color=\"white\" if cm[i, j] > 500 else \"black\")\n",
    "    \n",
    "    plt.tight_layout()\n",
    "    plt.ylabel('True label')\n",
    "    plt.xlabel('Predicted label')"
   ]
  },
  {
   "cell_type": "code",
   "execution_count": null,
   "metadata": {},
   "outputs": [],
   "source": [
    "undersample_confusion_matrix_ovr = metrics.confusion_matrix(y_test, ovr_predict_under)"
   ]
  },
  {
   "cell_type": "code",
   "execution_count": null,
   "metadata": {},
   "outputs": [],
   "source": [
    "print(undersample_confusion_matrix_ovr)\n",
    "plt.figure()\n",
    "plot_confusion_matrix(undersample_confusion_matrix_ovr, labelNames)\n",
    "plt.show()"
   ]
  },
  {
   "cell_type": "markdown",
   "metadata": {},
   "source": [
    "### Over sampling"
   ]
  },
  {
   "cell_type": "code",
   "execution_count": null,
   "metadata": {},
   "outputs": [],
   "source": [
    "# Grid search cross validation\n",
    "\n",
    "from sklearn.model_selection import GridSearchCV\n",
    "from sklearn.linear_model import LogisticRegression\n",
    "grid={\"C\":np.logspace(-3,3,7), \"penalty\":[\"l2\",\"none\"]}# l1 lasso l2 ridge\n",
    "# grid={\"C\":np.logspace(-3,3,7), \"penalty\":[\"l1\",\"l2\"]}# l1 lasso l2 ridge\n",
    "#‘lbfgs’ only handle L2 or no penalty\n",
    "ovr_estimator = LogisticRegression(\n",
    "    solver='lbfgs',\n",
    "    multi_class='ovr', max_iter = 1000)\n",
    "ovr_estimator_cv=GridSearchCV(ovr_estimator,grid,cv=10)\n",
    "ovr_estimator_cv.fit(X_over, y_over)\n",
    "\n",
    "print(\"tuned hpyerparameters :(best parameters) \",ovr_estimator_cv.best_params_)\n",
    "print(\"accuracy :\",ovr_estimator_cv.best_score_)"
   ]
  },
  {
   "cell_type": "code",
   "execution_count": null,
   "metadata": {},
   "outputs": [],
   "source": [
    "from sklearn import linear_model, model_selection, metrics\n",
    "\n",
    "# Fit a multi-class logistic regression model with one-v.s.-rest\n",
    "ovr_estimator = linear_model.LogisticRegression()\n",
    "#     solver='lbfgs',\n",
    "#     multi_class='ovr', \n",
    "#     C = 0.1, max_iter = 1000)\n",
    "ovr_estimator.fit(X_over, y_over)\n",
    "\n",
    "ovr_predict_over = ovr_estimator.predict(X_test)\n",
    "ovr_predict_over_proba = ovr_estimator.predict_proba(X_test)\n",
    "\n",
    "ovr_report = f\"\"\"\n",
    "The evaluation report of OVR is:\n",
    "Confusion Matrix:\n",
    "{metrics.confusion_matrix(y_test, ovr_predict_over)}\n",
    "Accuracy: {round(metrics.accuracy_score(y_test, ovr_predict_over), 3)}\n",
    "\"\"\"\n",
    "print(ovr_report)\n",
    "print('The classification report of OVR:\\n {}'\n",
    "      .format(metrics.classification_report(y_test, ovr_predict_over)))"
   ]
  },
  {
   "cell_type": "code",
   "execution_count": null,
   "metadata": {},
   "outputs": [],
   "source": [
    "from sklearn import metrics\n",
    "from sklearn.metrics import plot_confusion_matrix\n",
    "\n",
    "print('accuracy:', metrics.accuracy_score(y_test, ovr_predict_over))\n",
    "fig, ax = plt.subplots(figsize=(12, 12))\n",
    "plot_confusion_matrix(ovr_estimator, X_test, y_test, ax=ax) "
   ]
  },
  {
   "cell_type": "code",
   "execution_count": null,
   "metadata": {},
   "outputs": [],
   "source": [
    "# def plot_confusion_matrix(cm, names, title='Confusion matrix', cmap=plt.cm.Blues):\n",
    "#     plt.imshow(cm, interpolation='nearest', cmap=cmap)\n",
    "#     plt.title(title)\n",
    "#     plt.colorbar()\n",
    "#     tick_marks = np.arange(len(names))\n",
    "#     plt.xticks(tick_marks, names, rotation=90)\n",
    "#     plt.yticks(tick_marks, names)\n",
    "#     plt.tight_layout()\n",
    "#     plt.ylabel('True label')\n",
    "#     plt.xlabel('Predicted label')"
   ]
  },
  {
   "cell_type": "code",
   "execution_count": null,
   "metadata": {},
   "outputs": [],
   "source": [
    "from itertools import product\n",
    "\n",
    "def plot_confusion_matrix(cm, names, title='FMA DT - Confusion matrix', cmap=plt.cm.Blues):\n",
    "    plt.imshow(cm, interpolation='nearest', cmap=cmap)\n",
    "    plt.title(title)\n",
    "    plt.colorbar()\n",
    "    tick_marks = np.arange(len(names))\n",
    "    plt.xticks(tick_marks, names, rotation=90)\n",
    "    plt.yticks(tick_marks, names)\n",
    "    \n",
    "    for i, j in product(range(cm.shape[0]), range(cm.shape[1])):\n",
    "        plt.text(j, i, cm[i, j],\n",
    "        horizontalalignment=\"center\",\n",
    "        color=\"white\" if cm[i, j] > 500 else \"black\")\n",
    "    \n",
    "    plt.tight_layout()\n",
    "    plt.ylabel('True label')\n",
    "    plt.xlabel('Predicted label')"
   ]
  },
  {
   "cell_type": "code",
   "execution_count": null,
   "metadata": {},
   "outputs": [],
   "source": [
    "oversample_confusion_matrix_ovr = metrics.confusion_matrix(y_test, ovr_predict_over)"
   ]
  },
  {
   "cell_type": "code",
   "execution_count": null,
   "metadata": {},
   "outputs": [],
   "source": [
    "ovr_predict_over"
   ]
  },
  {
   "cell_type": "code",
   "execution_count": null,
   "metadata": {},
   "outputs": [],
   "source": [
    "print(oversample_confusion_matrix_ovr)\n",
    "plt.figure()\n",
    "plot_confusion_matrix(oversample_confusion_matrix_ovr, labelNames)\n",
    "plt.show()"
   ]
  },
  {
   "cell_type": "markdown",
   "metadata": {},
   "source": [
    "### Mix sampling"
   ]
  },
  {
   "cell_type": "code",
   "execution_count": null,
   "metadata": {},
   "outputs": [],
   "source": [
    "# Grid search cross validation\n",
    "\n",
    "from sklearn.model_selection import GridSearchCV\n",
    "from sklearn.linear_model import LogisticRegression\n",
    "grid={\"C\":np.logspace(-3,3,7), \"penalty\":[\"l2\",\"none\"]}# l1 lasso l2 ridge\n",
    "# grid={\"C\":np.logspace(-3,3,7), \"penalty\":[\"l1\",\"l2\"]}# l1 lasso l2 ridge\n",
    "#‘lbfgs’ only handle L2 or no penalty\n",
    "ovr_estimator = LogisticRegression(\n",
    "    solver='lbfgs',\n",
    "    multi_class='ovr', max_iter = 1000)\n",
    "ovr_estimator_cv=GridSearchCV(ovr_estimator,grid,cv=10)\n",
    "ovr_estimator_cv.fit(X_over, y_over)\n",
    "\n",
    "print(\"tuned hpyerparameters :(best parameters) \",ovr_estimator_cv.best_params_)\n",
    "print(\"accuracy :\",ovr_estimator_cv.best_score_)"
   ]
  },
  {
   "cell_type": "code",
   "execution_count": null,
   "metadata": {},
   "outputs": [],
   "source": [
    "from sklearn import linear_model, model_selection, metrics\n",
    "\n",
    "# Fit a multi-class logistic regression model with one-v.s.-rest\n",
    "ovr_estimator = linear_model.LogisticRegression()\n",
    "#     solver='lbfgs',\n",
    "#     multi_class='ovr', \n",
    "#     C = 0.1, max_iter = 1000)\n",
    "ovr_estimator.fit(X_mix, y_mix)\n",
    "\n",
    "ovr_predict_mix = ovr_estimator.predict(X_test)\n",
    "ovr_predict_mix_proba = ovr_estimator.predict_proba(X_test)\n",
    "\n",
    "ovr_report = f\"\"\"\n",
    "The evaluation report of OVR is:\n",
    "Confusion Matrix:\n",
    "{metrics.confusion_matrix(y_test, ovr_predict_mix)}\n",
    "Accuracy: {round(metrics.accuracy_score(y_test, ovr_predict_mix), 3)}\n",
    "\"\"\"\n",
    "print(ovr_report)\n",
    "print('The classification report of OVR:\\n {}'\n",
    "      .format(metrics.classification_report(y_test, ovr_predict_mix)))"
   ]
  },
  {
   "cell_type": "code",
   "execution_count": null,
   "metadata": {},
   "outputs": [],
   "source": [
    "from sklearn import metrics\n",
    "from sklearn.metrics import plot_confusion_matrix\n",
    "\n",
    "print('accuracy:', metrics.accuracy_score(y_test, ovr_predict_over))\n",
    "fig, ax = plt.subplots(figsize=(12, 12))\n",
    "plot_confusion_matrix(ovr_estimator, X_test, y_test, ax=ax) "
   ]
  },
  {
   "cell_type": "code",
   "execution_count": null,
   "metadata": {},
   "outputs": [],
   "source": [
    "# def plot_confusion_matrix(cm, names, title='Confusion matrix', cmap=plt.cm.Blues):\n",
    "#     plt.imshow(cm, interpolation='nearest', cmap=cmap)\n",
    "#     plt.title(title)\n",
    "#     plt.colorbar()\n",
    "#     tick_marks = np.arange(len(names))\n",
    "#     plt.xticks(tick_marks, names, rotation=90)\n",
    "#     plt.yticks(tick_marks, names)\n",
    "#     plt.tight_layout()\n",
    "#     plt.ylabel('True label')\n",
    "#     plt.xlabel('Predicted label')"
   ]
  },
  {
   "cell_type": "code",
   "execution_count": null,
   "metadata": {},
   "outputs": [],
   "source": [
    "from itertools import product\n",
    "\n",
    "def plot_confusion_matrix(cm, names, title='FMA DT - Confusion matrix', cmap=plt.cm.Blues):\n",
    "    plt.imshow(cm, interpolation='nearest', cmap=cmap)\n",
    "    plt.title(title)\n",
    "    plt.colorbar()\n",
    "    tick_marks = np.arange(len(names))\n",
    "    plt.xticks(tick_marks, names, rotation=90)\n",
    "    plt.yticks(tick_marks, names)\n",
    "    \n",
    "    for i, j in product(range(cm.shape[0]), range(cm.shape[1])):\n",
    "        plt.text(j, i, cm[i, j],\n",
    "        horizontalalignment=\"center\",\n",
    "        color=\"white\" if cm[i, j] > 500 else \"black\")\n",
    "    \n",
    "    plt.tight_layout()\n",
    "    plt.ylabel('True label')\n",
    "    plt.xlabel('Predicted label')"
   ]
  },
  {
   "cell_type": "code",
   "execution_count": null,
   "metadata": {},
   "outputs": [],
   "source": [
    "mixsample_confusion_matrix_ovr = metrics.confusion_matrix(y_test, ovr_predict_mix)"
   ]
  },
  {
   "cell_type": "code",
   "execution_count": null,
   "metadata": {},
   "outputs": [],
   "source": [
    "ovr_predict_mix"
   ]
  },
  {
   "cell_type": "code",
   "execution_count": null,
   "metadata": {},
   "outputs": [],
   "source": [
    "print(mixsample_confusion_matrix_ovr)\n",
    "plt.figure()\n",
    "plot_confusion_matrix(mixsample_confusion_matrix_ovr, labelNames)\n",
    "plt.show()"
   ]
  },
  {
   "cell_type": "code",
   "execution_count": null,
   "metadata": {},
   "outputs": [],
   "source": [
    "print(\"One Vs Rest logistic regression metrics:\\n\")\n",
    "\n",
    "print(\"ovr_nosampling_recall: \", metrics.recall_score(y_test,ovr_predict, average = 'weighted'))\n",
    "print(\"ovr_nosampling_precision: \", metrics.precision_score(y_test,ovr_predict, average = 'weighted'))\n",
    "print(\"ovr_nosampling_f1_Score: \", metrics.f1_score(y_test,ovr_predict, average = 'weighted'))\n",
    "print(\"ovr_nosampling_accuracy: \", metrics.accuracy_score(y_test,ovr_predict))\n",
    "print('ovr_nosampling_AUC:', metrics.roc_auc_score(y_test,ovr_predict_proba, multi_class='ovr', average='weighted'), \"\\n\")\n",
    "\n",
    "print(\"ovr_oversampling_recall: \", metrics.recall_score(y_test,ovr_predict_over, average = 'weighted'))\n",
    "print(\"ovr_oversampling_precision: \", metrics.precision_score(y_test,ovr_predict_over, average = 'weighted'))\n",
    "print(\"ovr_oversampling_f1_Score: \", metrics.f1_score(y_test,ovr_predict_over, average = 'weighted'))\n",
    "print(\"ovr_oversampling_accuracy: \", metrics.accuracy_score(y_test,ovr_predict_over))\n",
    "print('ovr_oversampling_AUC:', metrics.roc_auc_score(y_test, ovr_predict_over_proba, multi_class='ovr', average='weighted'), \"\\n\")\n",
    "\n",
    "print(\"ovr_undersampling_recall: \", metrics.recall_score(y_test,ovr_predict_under, average = 'weighted'))\n",
    "print(\"ovr_undersampling_precision: \", metrics.precision_score(y_test,ovr_predict_under, average = 'weighted'))\n",
    "print(\"ovr_undersampling_f1_Score: \", metrics.f1_score(y_test,ovr_predict_under, average = 'weighted'))\n",
    "print(\"ovr_undersampling_accuracy: \", metrics.accuracy_score(y_test,ovr_predict_under))\n",
    "print('ovr_undersampling_AUC:', metrics.roc_auc_score(y_test, ovr_predict_under_proba, multi_class='ovr', average='weighted'), \"\\n\")\n",
    "\n",
    "print(\"ovr_mixsampling_recall: \", metrics.recall_score(y_test,ovr_predict_mix, average = 'weighted'))\n",
    "print(\"ovr_mixsampling_precision: \", metrics.precision_score(y_test,ovr_predict_mix, average = 'weighted'))\n",
    "print(\"ovr_mixsampling_f1_Score: \", metrics.f1_score(y_test,ovr_predict_mix, average = 'weighted'))\n",
    "print(\"ovr_mixsampling_accuracy: \", metrics.accuracy_score(y_test,ovr_predict_mix))\n",
    "print('ovr_mixsampling_AUC:', metrics.roc_auc_score(y_test, ovr_predict_mix_proba, multi_class='ovr', average='weighted'), \"\\n\")\n"
   ]
  },
  {
   "cell_type": "code",
   "execution_count": null,
   "metadata": {},
   "outputs": [],
   "source": [
    "# from sklearn import metrics\n",
    "\n",
    "# print('accuracy:', metrics.accuracy_score(y_test, ovr_predict))\n",
    "# fig, ax = plt.subplots(figsize=(12, 12))\n",
    "# plot_confusion_matrix(ovr_estimator, X_test, y_test, ax=ax) "
   ]
  },
  {
   "cell_type": "markdown",
   "metadata": {},
   "source": [
    "### Multinomial - default for multi class logistic regression"
   ]
  },
  {
   "cell_type": "code",
   "execution_count": 34,
   "metadata": {},
   "outputs": [
    {
     "name": "stdout",
     "output_type": "stream",
     "text": [
      "tuned hpyerparameters :(best parameters)  {'C': 0.01, 'penalty': 'l2'}\n"
     ]
    },
    {
     "ename": "NameError",
     "evalue": "name 'ovr_estimator_cv' is not defined",
     "output_type": "error",
     "traceback": [
      "\u001b[1;31m---------------------------------------------------------------------------\u001b[0m",
      "\u001b[1;31mNameError\u001b[0m                                 Traceback (most recent call last)",
      "\u001b[1;32m<ipython-input-34-e5be0febf058>\u001b[0m in \u001b[0;36m<module>\u001b[1;34m\u001b[0m\n\u001b[0;32m     13\u001b[0m \u001b[1;33m\u001b[0m\u001b[0m\n\u001b[0;32m     14\u001b[0m \u001b[0mprint\u001b[0m\u001b[1;33m(\u001b[0m\u001b[1;34m\"tuned hpyerparameters :(best parameters) \"\u001b[0m\u001b[1;33m,\u001b[0m\u001b[0msm_estimator_cv\u001b[0m\u001b[1;33m.\u001b[0m\u001b[0mbest_params_\u001b[0m\u001b[1;33m)\u001b[0m\u001b[1;33m\u001b[0m\u001b[1;33m\u001b[0m\u001b[0m\n\u001b[1;32m---> 15\u001b[1;33m \u001b[0mprint\u001b[0m\u001b[1;33m(\u001b[0m\u001b[1;34m\"accuracy :\"\u001b[0m\u001b[1;33m,\u001b[0m\u001b[0movr_estimator_cv\u001b[0m\u001b[1;33m.\u001b[0m\u001b[0mbest_score_\u001b[0m\u001b[1;33m)\u001b[0m\u001b[1;33m\u001b[0m\u001b[1;33m\u001b[0m\u001b[0m\n\u001b[0m",
      "\u001b[1;31mNameError\u001b[0m: name 'ovr_estimator_cv' is not defined"
     ]
    }
   ],
   "source": [
    "# Grid search cross validation\n",
    "\n",
    "from sklearn.model_selection import GridSearchCV\n",
    "from sklearn.linear_model import LogisticRegression\n",
    "grid={\"C\":np.logspace(-3,3,7), \"penalty\":[\"l2\",\"none\"]}# l1 lasso l2 ridge\n",
    "# grid={\"C\":np.logspace(-3,3,7), \"penalty\":[\"l1\",\"l2\"]}# l1 lasso l2 ridge\n",
    "#‘lbfgs’ only handle L2 or no penalty\n",
    "sm_estimator = LogisticRegression(\n",
    "    solver='lbfgs',\n",
    "    multi_class='multinomial', max_iter=2000)\n",
    "sm_estimator_cv=GridSearchCV(sm_estimator,grid,cv=10)\n",
    "sm_estimator_cv.fit(X_train,y_train)\n",
    "\n",
    "print(\"tuned hpyerparameters :(best parameters) \",sm_estimator_cv.best_params_)\n",
    "print(\"accuracy :\",sm_estimator_cv.best_score_)"
   ]
  },
  {
   "cell_type": "code",
   "execution_count": 19,
   "metadata": {},
   "outputs": [
    {
     "name": "stdout",
     "output_type": "stream",
     "text": [
      "\n",
      "The evaluation report of Softmax is:\n",
      "Confusion Matrix:\n",
      "[[  64    0   14    1    0    5    0    1    2]\n",
      " [   2  572  129    3   37    7    4   12   73]\n",
      " [   4  120  695   31   17   15    3   11  189]\n",
      " [   2    5   96   79    0    5    9    2  101]\n",
      " [   0   53   22    0  224    1    2    0   21]\n",
      " [   9   48   72   54    0   43    2   10   71]\n",
      " [   1   26    6   31    6    0   29    1   28]\n",
      " [   0   77   22   22   10    3    2    4   64]\n",
      " [   1   62  104   36   17    2    7   11 1224]]\n",
      "Accuracy: 0.619\n",
      "\n",
      "The classification report of Softmax:\n",
      "                precision    recall  f1-score   support\n",
      "\n",
      "    Classical       0.77      0.74      0.75        87\n",
      "   Electronic       0.59      0.68      0.63       839\n",
      " Experimental       0.60      0.64      0.62      1085\n",
      "         Folk       0.31      0.26      0.28       299\n",
      "      Hip-Hop       0.72      0.69      0.71       323\n",
      " Instrumental       0.53      0.14      0.22       309\n",
      "International       0.50      0.23      0.31       128\n",
      "          Pop       0.08      0.02      0.03       204\n",
      "         Rock       0.69      0.84      0.76      1464\n",
      "\n",
      "     accuracy                           0.62      4738\n",
      "    macro avg       0.53      0.47      0.48      4738\n",
      " weighted avg       0.59      0.62      0.59      4738\n",
      "\n"
     ]
    }
   ],
   "source": [
    "from sklearn import linear_model, model_selection, metrics\n",
    "\n",
    "# Fit a multi-class logistic regression model with softmax\n",
    "sm_estimator = linear_model.LogisticRegression(\n",
    "    solver='lbfgs',\n",
    "    multi_class='multinomial',\n",
    "    C = 0.01, penalty = 'l2', max_iter=1000)\n",
    "sm_estimator.fit(X_train, y_train)\n",
    "\n",
    "sm_predict = sm_estimator.predict(X_test)\n",
    "sm_predict_proba = sm_estimator.predict_proba(X_test)\n",
    "\n",
    "sm_report = f\"\"\"\n",
    "The evaluation report of Softmax is:\n",
    "Confusion Matrix:\n",
    "{metrics.confusion_matrix(y_test, sm_predict)}\n",
    "Accuracy: {round(metrics.accuracy_score(y_test, sm_predict), 3)}\n",
    "\"\"\"\n",
    "print(sm_report)\n",
    "print('The classification report of Softmax:\\n {}'\n",
    "      .format(metrics.classification_report(y_test, sm_predict)))"
   ]
  },
  {
   "cell_type": "code",
   "execution_count": 20,
   "metadata": {},
   "outputs": [
    {
     "name": "stdout",
     "output_type": "stream",
     "text": [
      "accuracy: 0.6192486281131279\n"
     ]
    },
    {
     "data": {
      "text/plain": [
       "<sklearn.metrics._plot.confusion_matrix.ConfusionMatrixDisplay at 0x288512d7970>"
      ]
     },
     "execution_count": 20,
     "metadata": {},
     "output_type": "execute_result"
    },
    {
     "data": {
      "image/png": "[encoded data removed]",
      "text/plain": [
       "<Figure size 864x864 with 2 Axes>"
      ]
     },
     "metadata": {
      "needs_background": "light"
     },
     "output_type": "display_data"
    }
   ],
   "source": [
    "from sklearn import metrics\n",
    "from sklearn.metrics import plot_confusion_matrix\n",
    "\n",
    "print('accuracy:', metrics.accuracy_score(y_test, sm_predict))\n",
    "fig, ax = plt.subplots(figsize=(12, 12))\n",
    "plot_confusion_matrix(sm_estimator, X_test, y_test, ax=ax) "
   ]
  },
  {
   "cell_type": "code",
   "execution_count": 21,
   "metadata": {},
   "outputs": [],
   "source": [
    "# def plot_confusion_matrix(cm, names, title='Confusion matrix', cmap=plt.cm.Blues):\n",
    "#     plt.imshow(cm, interpolation='nearest', cmap=cmap)\n",
    "#     plt.title(title)\n",
    "#     plt.colorbar()\n",
    "#     tick_marks = np.arange(len(names))\n",
    "#     plt.xticks(tick_marks, names, rotation=90)\n",
    "#     plt.yticks(tick_marks, names)\n",
    "#     plt.tight_layout()\n",
    "#     plt.ylabel('True label')\n",
    "#     plt.xlabel('Predicted label')"
   ]
  },
  {
   "cell_type": "code",
   "execution_count": 22,
   "metadata": {},
   "outputs": [],
   "source": [
    "from itertools import product\n",
    "\n",
    "def plot_confusion_matrix(cm, names, title='FMA LR - Confusion matrix', cmap=plt.cm.Blues):\n",
    "    plt.imshow(cm, interpolation='nearest', cmap=cmap)\n",
    "    plt.title(title)\n",
    "    plt.colorbar()\n",
    "    tick_marks = np.arange(len(names))\n",
    "    plt.xticks(tick_marks, names, rotation=90)\n",
    "    plt.yticks(tick_marks, names)\n",
    "    \n",
    "    for i, j in product(range(cm.shape[0]), range(cm.shape[1])):\n",
    "        plt.text(j, i, cm[i, j],\n",
    "        horizontalalignment=\"center\",\n",
    "        color=\"white\" if cm[i, j] > 500 else \"black\")\n",
    "    \n",
    "    plt.tight_layout()\n",
    "    plt.ylabel('True label')\n",
    "    plt.xlabel('Predicted label')"
   ]
  },
  {
   "cell_type": "code",
   "execution_count": 23,
   "metadata": {},
   "outputs": [],
   "source": [
    "labelNames = ['Rock', 'Experimental', 'Electronic', 'Hip-Hop', 'Folk', 'Pop', 'Instrumental', 'International', 'Classical']\n",
    "labelNames.sort()"
   ]
  },
  {
   "cell_type": "code",
   "execution_count": 24,
   "metadata": {},
   "outputs": [],
   "source": [
    "nosample_confusion_matrix_sm = metrics.confusion_matrix(y_test, sm_predict)"
   ]
  },
  {
   "cell_type": "code",
   "execution_count": 25,
   "metadata": {},
   "outputs": [
    {
     "name": "stdout",
     "output_type": "stream",
     "text": [
      "[[  64    0   14    1    0    5    0    1    2]\n",
      " [   2  572  129    3   37    7    4   12   73]\n",
      " [   4  120  695   31   17   15    3   11  189]\n",
      " [   2    5   96   79    0    5    9    2  101]\n",
      " [   0   53   22    0  224    1    2    0   21]\n",
      " [   9   48   72   54    0   43    2   10   71]\n",
      " [   1   26    6   31    6    0   29    1   28]\n",
      " [   0   77   22   22   10    3    2    4   64]\n",
      " [   1   62  104   36   17    2    7   11 1224]]\n"
     ]
    },
    {
     "data": {
      "image/png": "[encoded data removed]",
      "text/plain": [
       "<Figure size 432x288 with 2 Axes>"
      ]
     },
     "metadata": {
      "needs_background": "light"
     },
     "output_type": "display_data"
    }
   ],
   "source": [
    "print(nosample_confusion_matrix_sm)\n",
    "plt.figure()\n",
    "plot_confusion_matrix(nosample_confusion_matrix_sm, labelNames)\n",
    "plt.show()"
   ]
  },
  {
   "cell_type": "markdown",
   "metadata": {},
   "source": [
    "### Under sampling"
   ]
  },
  {
   "cell_type": "code",
   "execution_count": null,
   "metadata": {},
   "outputs": [],
   "source": [
    "# Grid search cross validation\n",
    "\n",
    "from sklearn.model_selection import GridSearchCV\n",
    "from sklearn.linear_model import LogisticRegression\n",
    "grid={\"C\":np.logspace(-3,3,7), \"penalty\":[\"l2\",\"none\"]}# l1 lasso l2 ridge\n",
    "# grid={\"C\":np.logspace(-3,3,7), \"penalty\":[\"l1\",\"l2\"]}# l1 lasso l2 ridge\n",
    "#‘lbfgs’ only handle L2 or no penalty\n",
    "sm_estimator = LogisticRegression(\n",
    "    solver='lbfgs',\n",
    "    multi_class='multinomial', max_iter=1000)\n",
    "sm_estimator_cv=GridSearchCV(sm_estimator,grid,cv=10)\n",
    "sm_estimator_cv.fit(X_under, y_under)\n",
    "\n",
    "print(\"tuned hpyerparameters :(best parameters) \",sm_estimator_cv.best_params_)\n",
    "print(\"accuracy :\",ovr_estimator_cv.best_score_)"
   ]
  },
  {
   "cell_type": "code",
   "execution_count": null,
   "metadata": {},
   "outputs": [],
   "source": [
    "# Fit a multi-class logistic regression model with softmax\n",
    "sm_estimator = linear_model.LogisticRegression(\n",
    "    solver='lbfgs',\n",
    "    multi_class='multinomial',\n",
    "    max_iter=100)\n",
    "sm_estimator.fit(X_under, y_under)\n",
    "\n",
    "sm_predict_under = sm_estimator.predict(X_test)\n",
    "sm_predict_under_proba = sm_estimator.predict_proba(X_test)\n",
    "\n",
    "sm_report = f\"\"\"\n",
    "The evaluation report of Softmax is:\n",
    "Confusion Matrix:\n",
    "{metrics.confusion_matrix(y_test, sm_predict_under)}\n",
    "Accuracy: {round(metrics.accuracy_score(y_test, sm_predict_under), 3)}\n",
    "\"\"\"\n",
    "print(sm_report)\n",
    "print('The classification report of Softmax:\\n {}'\n",
    "      .format(metrics.classification_report(y_test, sm_predict_under)))"
   ]
  },
  {
   "cell_type": "markdown",
   "metadata": {},
   "source": [
    "### Over sampling"
   ]
  },
  {
   "cell_type": "code",
   "execution_count": null,
   "metadata": {},
   "outputs": [],
   "source": [
    "# Grid search cross validation\n",
    "\n",
    "from sklearn.model_selection import GridSearchCV\n",
    "from sklearn.linear_model import LogisticRegression\n",
    "grid={\"C\":np.logspace(-3,3,7), \"penalty\":[\"l2\",\"none\"]}# l1 lasso l2 ridge\n",
    "# grid={\"C\":np.logspace(-3,3,7), \"penalty\":[\"l1\",\"l2\"]}# l1 lasso l2 ridge\n",
    "#‘lbfgs’ only handle L2 or no penalty\n",
    "sm_estimator = LogisticRegression(\n",
    "    solver='lbfgs',\n",
    "    multi_class='multinomial', max_iter=1000)\n",
    "sm_estimator_cv=GridSearchCV(sm_estimator,grid,cv=10)\n",
    "sm_estimator_cv.fit(X_over, y_over)\n",
    "\n",
    "print(\"tuned hpyerparameters :(best parameters) \",sm_estimator_cv.best_params_)\n",
    "print(\"accuracy :\",ovr_estimator_cv.best_score_)"
   ]
  },
  {
   "cell_type": "code",
   "execution_count": null,
   "metadata": {},
   "outputs": [],
   "source": [
    "# Fit a multi-class logistic regression model with softmax\n",
    "sm_estimator = linear_model.LogisticRegression(\n",
    "    solver='lbfgs',\n",
    "    multi_class='multinomial',\n",
    "    max_iter=100)\n",
    "sm_estimator.fit(X_over, y_over)\n",
    "\n",
    "sm_predict_over = sm_estimator.predict(X_test)\n",
    "sm_predict_over_proba = sm_estimator.predict_proba(X_test)\n",
    "\n",
    "sm_report = f\"\"\"\n",
    "The evaluation report of Softmax is:\n",
    "Confusion Matrix:\n",
    "{metrics.confusion_matrix(y_test, sm_predict_over)}\n",
    "Accuracy: {round(metrics.accuracy_score(y_test, sm_predict_over), 3)}\n",
    "\"\"\"\n",
    "print(sm_report)\n",
    "print('The classification report of Softmax:\\n {}'\n",
    "      .format(metrics.classification_report(y_test, sm_predict_over)))"
   ]
  },
  {
   "cell_type": "code",
   "execution_count": 26,
   "metadata": {},
   "outputs": [
    {
     "name": "stdout",
     "output_type": "stream",
     "text": [
      "Softmax logistic regression metrics:\n",
      "\n",
      "sm_nosampling_recall:  0.6192486281131279\n",
      "sm_nosampling_precision:  0.5897971645766695\n",
      "sm_nosampling_f1_Score:  0.5919628963413716\n",
      "sm_nosampling_accuracy:  0.6192486281131279\n",
      "sm_nosampling_AUC: 0.8823083887332746 \n",
      "\n"
     ]
    }
   ],
   "source": [
    "print(\"Softmax logistic regression metrics:\\n\")\n",
    "\n",
    "print(\"sm_nosampling_recall: \", metrics.recall_score(y_test,sm_predict, average = 'weighted'))\n",
    "print(\"sm_nosampling_precision: \", metrics.precision_score(y_test,sm_predict, average = 'weighted'))\n",
    "print(\"sm_nosampling_f1_Score: \", metrics.f1_score(y_test,sm_predict, average = 'weighted'))\n",
    "print(\"sm_nosampling_accuracy: \", metrics.accuracy_score(y_test,sm_predict))\n",
    "print('sm_nosampling_AUC:', metrics.roc_auc_score(y_test, sm_predict_proba, multi_class='ovr', average='weighted'), \"\\n\")\n",
    "\n",
    "# print(\"sm_undersampling_recall: \", metrics.recall_score(y_test,sm_predict_under, average = 'weighted'))\n",
    "# print(\"sm_undersampling_precision: \", metrics.precision_score(y_test,sm_predict_under, average = 'weighted'))\n",
    "# print(\"sm_undersampling_f1_Score: \", metrics.f1_score(y_test,sm_predict_under, average = 'weighted'))\n",
    "# print(\"sm_undersampling_accuracy: \", metrics.accuracy_score(y_test,sm_predict_under))\n",
    "# print('sm_undersampling_AUC:', metrics.roc_auc_score(y_test, sm_predict_under_proba, multi_class='ovr', average='weighted'), \"\\n\")\n",
    "\n",
    "# print(\"sm_oversampling_recall: \", metrics.recall_score(y_test,sm_predict_over, average = 'weighted'))\n",
    "# print(\"sm_oversampling_precision: \", metrics.precision_score(y_test,sm_predict_over, average = 'weighted'))\n",
    "# print(\"sm_oversampling_f1_Score: \", metrics.f1_score(y_test,sm_predict_over, average = 'weighted'))\n",
    "# print(\"sm_oversampling_accuracy: \", metrics.accuracy_score(y_test,sm_predict_over))\n",
    "# print('sm_oversampling_AUC:', metrics.roc_auc_score(y_test, sm_predict_over_proba, multi_class='ovr', average='weighted'), \"\\n\")"
   ]
  },
  {
   "cell_type": "code",
   "execution_count": null,
   "metadata": {},
   "outputs": [],
   "source": [
    "# from sklearn import metrics\n",
    "\n",
    "# print('accuracy:', metrics.accuracy_score(y_test, sm_predict))\n",
    "# fig, ax = plt.subplots(figsize=(12, 12))\n",
    "# plot_confusion_matrix(sm_estimator, X_test, y_test, ax=ax) "
   ]
  },
  {
   "cell_type": "code",
   "execution_count": null,
   "metadata": {},
   "outputs": [],
   "source": []
  },
  {
   "cell_type": "markdown",
   "metadata": {},
   "source": [
    "## Plot ROC curve"
   ]
  },
  {
   "cell_type": "code",
   "execution_count": null,
   "metadata": {
    "tags": []
   },
   "outputs": [],
   "source": [
    "# y_pred_prob = logreg.predict_proba(X_test)\n",
    "# # keep probabilities for the positive class only\n",
    "# y_pred_prob = y_pred_prob[:, 1]\n",
    "\n",
    "# # calculate the ROC curve\n",
    "# fpr, tpr, thresholds = metrics.roc_curve(y_test, y_pred_prob)\n",
    "\n",
    "# # Calculate AUC\n",
    "# print('AUC:', metrics.roc_auc_score(y_test, y_pred_prob)) #y_pred_prob is the probability not the predicted label\n",
    "\n",
    "# plt.plot([0, 1], [0, 1], ls = '--')\n",
    "# plt.plot(fpr, tpr, marker = '.')\n",
    "# plt.xlabel('FPR')\n",
    "# plt.ylabel('TPR')\n",
    "# plt.title('ROC Curve')\n",
    "# plt.show()"
   ]
  },
  {
   "cell_type": "code",
   "execution_count": 27,
   "metadata": {},
   "outputs": [],
   "source": [
    "# from sklearn.multiclass import OneVsRestClassifier\n",
    "from sklearn.metrics import roc_curve\n",
    "from sklearn.metrics import roc_auc_score"
   ]
  },
  {
   "cell_type": "code",
   "execution_count": null,
   "metadata": {},
   "outputs": [],
   "source": [
    "# ovr_estimator = linear_model.LogisticRegression(\n",
    "#     solver='lbfgs',\n",
    "#     multi_class='ovr',\n",
    "#     C = 10.0, max_iter = 1000)\n",
    "# ovr_estimator.fit(X_train, y_train)\n",
    "\n",
    "# ovr_predict = ovr_estimator.predict(X_test)\n",
    "# ovr_predict_proba= ovr_estimator.predict_proba(X_test)\n",
    "\n",
    "# ovr_knn = OneVsRestClassifier(KNeighborsClassifier(n_neighbors = 200))\n",
    "\n",
    "# ovr_knn.fit(reduced_train_features, y_train)\n",
    "\n",
    "# y_pred_ovr_knn = ovr_knn.predict(reduced_test_features)\n",
    "# y_pred_ovr_knn_probability = ovr_knn.predict_proba(reduced_test_features)"
   ]
  },
  {
   "cell_type": "code",
   "execution_count": 28,
   "metadata": {},
   "outputs": [],
   "source": [
    "sm_estimator = linear_model.LogisticRegression(\n",
    "    solver='lbfgs',\n",
    "    multi_class='multinomial',\n",
    "    C = 0.01, penalty = 'l2', max_iter=1000)\n",
    "sm_estimator.fit(X_train, y_train)\n",
    "\n",
    "sm_predict = sm_estimator.predict(X_test)\n",
    "sm_predict_proba = sm_estimator.predict_proba(X_test)\n",
    "\n",
    "# ovr_knn = OneVsRestClassifier(KNeighborsClassifier(n_neighbors = 200))\n",
    "\n",
    "# ovr_knn.fit(reduced_train_features, y_train)\n",
    "\n",
    "# y_pred_ovr_knn = ovr_knn.predict(reduced_test_features)\n",
    "# y_pred_ovr_knn_probability = ovr_knn.predict_proba(reduced_test_features)"
   ]
  },
  {
   "cell_type": "code",
   "execution_count": 29,
   "metadata": {},
   "outputs": [
    {
     "data": {
      "text/plain": [
       "array(['Rock', 'Rock', 'Rock', ..., 'Rock', 'Rock', 'Electronic'],\n",
       "      dtype=object)"
      ]
     },
     "execution_count": 29,
     "metadata": {},
     "output_type": "execute_result"
    }
   ],
   "source": [
    "sm_predict"
   ]
  },
  {
   "cell_type": "code",
   "execution_count": 30,
   "metadata": {},
   "outputs": [],
   "source": [
    "labelNames = ['Rock', 'Experimental', 'Electronic', 'Hip-Hop', 'Folk', 'Pop', 'Instrumental', 'International', 'Classical']\n",
    "labelNames.sort()\n",
    "\n",
    "fpr = {}\n",
    "tpr = {}\n",
    "thresh ={}\n",
    "\n",
    "n_class = 9\n",
    "\n",
    "for i in range(n_class):    \n",
    "    fpr[i], tpr[i], thresh[i] = roc_curve(y_test, sm_predict_proba[:,i], pos_label=labelNames[i])"
   ]
  },
  {
   "cell_type": "code",
   "execution_count": 31,
   "metadata": {},
   "outputs": [
    {
     "name": "stdout",
     "output_type": "stream",
     "text": [
      "['Classical', 'Electronic', 'Experimental', 'Folk', 'Hip-Hop', 'Instrumental', 'International', 'Pop', 'Rock']\n"
     ]
    }
   ],
   "source": [
    "print(labelNames)"
   ]
  },
  {
   "cell_type": "code",
   "execution_count": 33,
   "metadata": {},
   "outputs": [
    {
     "data": {
      "image/png": "[encoded data removed]",
      "text/plain": [
       "<Figure size 432x288 with 1 Axes>"
      ]
     },
     "metadata": {
      "needs_background": "light"
     },
     "output_type": "display_data"
    }
   ],
   "source": [
    "plt.plot(fpr[0], tpr[0], linestyle='--',color='orange', label='Classical vs Rest')\n",
    "plt.plot(fpr[1], tpr[1], linestyle='--',color='green', label='Electronic vs Rest')\n",
    "plt.plot(fpr[2], tpr[2], linestyle='--',color='blue', label='Experimental vs Rest')\n",
    "plt.plot(fpr[3], tpr[3], linestyle='--',color='red', label='Folk vs Rest')\n",
    "plt.plot(fpr[4], tpr[4], linestyle='--',color='cyan', label='Hip-Hop vs Rest')\n",
    "plt.plot(fpr[5], tpr[5], linestyle='--',color='magenta', label='Instrumental vs Rest')\n",
    "plt.plot(fpr[6], tpr[6], linestyle='--',color='yellow', label='International vs Rest')\n",
    "plt.plot(fpr[7], tpr[7], linestyle='--',color='black', label='Pop vs Rest')\n",
    "plt.plot(fpr[8], tpr[8], linestyle='--',color='grey', label='Rock vs Rest')\n",
    "plt.title('Multiclass Softmax ROC curve')\n",
    "plt.xlabel('False Positive Rate')\n",
    "plt.ylabel('True Positive rate')\n",
    "plt.legend(loc='best')\n",
    "plt.savefig('Multiclass ROC',dpi=300);"
   ]
  },
  {
   "cell_type": "code",
   "execution_count": null,
   "metadata": {},
   "outputs": [],
   "source": []
  },
  {
   "cell_type": "code",
   "execution_count": null,
   "metadata": {},
   "outputs": [],
   "source": []
  },
  {
   "cell_type": "code",
   "execution_count": null,
   "metadata": {},
   "outputs": [],
   "source": []
  },
  {
   "cell_type": "markdown",
   "metadata": {},
   "source": [
    "### ARCHIVE"
   ]
  },
  {
   "cell_type": "code",
   "execution_count": null,
   "metadata": {},
   "outputs": [],
   "source": [
    "# !pip install tensorflow --user"
   ]
  },
  {
   "cell_type": "code",
   "execution_count": null,
   "metadata": {},
   "outputs": [],
   "source": [
    "# import time\n",
    "# import os\n",
    "\n",
    "# import IPython.display as ipd\n",
    "# # from tqdm import tqdm_notebook\n",
    "# from tqdm import notebook\n",
    "# import numpy as np\n",
    "# import pandas as pd\n",
    "# import keras\n",
    "# from keras.layers import Activation, Dense, Conv1D, Conv2D, MaxPooling1D, Flatten, Reshape\n",
    "\n",
    "# from sklearn.utils import shuffle\n",
    "# from sklearn.preprocessing import MultiLabelBinarizer, LabelEncoder, LabelBinarizer, StandardScaler\n",
    "# from sklearn.linear_model import LogisticRegression\n",
    "# from sklearn.neighbors import KNeighborsClassifier\n",
    "# from sklearn.svm import SVC, LinearSVC\n",
    "# #from sklearn.gaussian_process import GaussianProcessClassifier\n",
    "# #from sklearn.gaussian_process.kernels import RBF\n",
    "# from sklearn.tree import DecisionTreeClassifier\n",
    "# from sklearn.ensemble import RandomForestClassifier, AdaBoostClassifier\n",
    "# from sklearn.neural_network import MLPClassifier\n",
    "# from sklearn.naive_bayes import GaussianNB\n",
    "# from sklearn.discriminant_analysis import QuadraticDiscriminantAnalysis\n",
    "# from sklearn.multiclass import OneVsRestClassifier\n",
    "\n",
    "# from sklearn import svm, datasets\n",
    "# from sklearn.metrics import roc_curve, auc\n",
    "# from sklearn.model_selection import train_test_split\n",
    "# from sklearn.preprocessing import label_binarize\n",
    "\n",
    "# from scipy import interp\n",
    "# from sklearn.metrics import roc_auc_score\n",
    "\n",
    "# import utils"
   ]
  },
  {
   "cell_type": "code",
   "execution_count": null,
   "metadata": {},
   "outputs": [],
   "source": [
    "# AUDIO_DIR = os.environ.get('AUDIO_DIR')\n",
    "\n",
    "# tracks = utils.load('tracks.csv')\n",
    "# features = utils.load('features.csv')\n",
    "# echonest = utils.load('echonest.csv')\n",
    "\n",
    "# np.testing.assert_array_equal(features.index, tracks.index)\n",
    "# assert echonest.index.isin(tracks.index).all()\n",
    "\n",
    "# tracks.shape, features.shape, echonest.shape"
   ]
  },
  {
   "cell_type": "code",
   "execution_count": null,
   "metadata": {},
   "outputs": [],
   "source": [
    "# features.head()"
   ]
  },
  {
   "cell_type": "markdown",
   "metadata": {},
   "source": [
    "## Data preparation"
   ]
  },
  {
   "cell_type": "code",
   "execution_count": null,
   "metadata": {},
   "outputs": [],
   "source": [
    "# tracks_clean = pd.read_csv(\"tracks_cleaned.csv\")\n",
    "\n",
    "# tracks_clean = tracks_clean[['track_id','genre_top','split','subset']]\n",
    "\n",
    "# tracks_clean.head()\n",
    "\n",
    "# tracks_clean.shape\n",
    "\n",
    "# tracks_clean.isna().sum(axis=0)"
   ]
  },
  {
   "cell_type": "code",
   "execution_count": null,
   "metadata": {},
   "outputs": [],
   "source": [
    "# tracks = pd.read_csv(\"tracks.csv\")\n",
    "\n",
    "# # tracks = tracks[['track_id','genre_top','split','subset']]\n",
    "\n",
    "# tracks.head()\n",
    "\n",
    "# tracks.shape\n",
    "\n",
    "# tracks_clean.isna().sum(axis=0)"
   ]
  },
  {
   "cell_type": "code",
   "execution_count": null,
   "metadata": {},
   "outputs": [],
   "source": [
    "# genres = [\"Rock\",\"Experimental\",\"Electronic\",\"Hip-Hop\",\"Folk\",\"Pop\",\"Instrumental\",\"International\",\"Classical\"]\n",
    "# tracks_clean = tracks_clean[tracks_clean.genre_top.isin(genres)]\n",
    "# tracks_clean.shape"
   ]
  },
  {
   "cell_type": "code",
   "execution_count": null,
   "metadata": {},
   "outputs": [],
   "source": [
    "# tracks_clean.dropna(subset = [\"genre_top\",\"track_id\",\"split\",\"subset\"], inplace=True)\n",
    "\n",
    "# tracks_clean.isna().sum(axis=0)\n",
    "\n",
    "# tracks_clean.shape"
   ]
  },
  {
   "cell_type": "code",
   "execution_count": null,
   "metadata": {},
   "outputs": [],
   "source": [
    "# tracks_clean[[\"genre_top\",\"track_id\",\"split\",\"subset\"]].groupby([\"genre_top\"]).agg(['count'])"
   ]
  },
  {
   "cell_type": "code",
   "execution_count": null,
   "metadata": {},
   "outputs": [],
   "source": [
    "# tracks_clean"
   ]
  },
  {
   "cell_type": "code",
   "execution_count": null,
   "metadata": {},
   "outputs": [],
   "source": [
    "# # Read in librosa track features\n",
    "# features = pd.read_csv(\"features_cleaned.csv\")\n",
    "\n",
    "# features.head()\n"
   ]
  },
  {
   "cell_type": "code",
   "execution_count": null,
   "metadata": {},
   "outputs": [],
   "source": [
    "# features"
   ]
  },
  {
   "cell_type": "code",
   "execution_count": null,
   "metadata": {},
   "outputs": [],
   "source": [
    "# Merge the relevant columns of tracks and features\n",
    "\n",
    "# tracks_clean['track_id'] = tracks_clean['track_id'].astype(int)\n",
    "# features['track_id'] = features['track_id'].astype(int)\n",
    "\n",
    "# tracks_features = tracks_clean.merge(features, how='left', on='track_id')\n",
    "# tracks_features = features.merge(tracks_clean[['track_id','genre_top','split','subset']], on='track_id')"
   ]
  },
  {
   "cell_type": "code",
   "execution_count": null,
   "metadata": {},
   "outputs": [],
   "source": [
    "# tracks_features.shape"
   ]
  },
  {
   "cell_type": "code",
   "execution_count": null,
   "metadata": {},
   "outputs": [],
   "source": [
    "# tracks_features"
   ]
  },
  {
   "cell_type": "markdown",
   "metadata": {},
   "source": [
    "## Split dataset"
   ]
  },
  {
   "cell_type": "code",
   "execution_count": null,
   "metadata": {},
   "outputs": [],
   "source": [
    "# subset = tracks.index[tracks['set', 'subset'] <= 'medium']\n",
    "\n",
    "# assert subset.isin(tracks.index).all()\n",
    "# assert subset.isin(features.index).all()\n",
    "\n",
    "# features_all = features.join(echonest, how='inner').sort_index(axis=1)\n",
    "# print('Not enough Echonest features: {}'.format(features_all.shape))\n",
    "\n",
    "# tracks = tracks.loc[subset]\n",
    "# features_all = features.loc[subset]\n",
    "\n",
    "# tracks.shape, features_all.shape"
   ]
  },
  {
   "cell_type": "code",
   "execution_count": null,
   "metadata": {},
   "outputs": [],
   "source": [
    "# train = tracks_features[tracks_features['split'] == 'training']\n",
    "# val = tracks_features[tracks_features['split'] == 'validation']\n",
    "# test = tracks_features[tracks_features['split'] == 'test']"
   ]
  },
  {
   "cell_type": "code",
   "execution_count": null,
   "metadata": {},
   "outputs": [],
   "source": [
    "# train"
   ]
  },
  {
   "cell_type": "code",
   "execution_count": null,
   "metadata": {},
   "outputs": [],
   "source": [
    "# X_train = train.iloc[:, 4:]\n",
    "# y_train = train['genre_top']\n",
    "\n",
    "# X_val = val.iloc[:, 4:]\n",
    "# y_val = val['genre_top']\n",
    "\n",
    "# X_test = test.iloc[:, 4:]\n",
    "# y_test = test['genre_top']"
   ]
  },
  {
   "cell_type": "code",
   "execution_count": null,
   "metadata": {},
   "outputs": [],
   "source": [
    "# X_train"
   ]
  },
  {
   "cell_type": "code",
   "execution_count": null,
   "metadata": {},
   "outputs": [],
   "source": [
    "# train = tracks_features.index[tracks_features['split'] == 'training']\n",
    "# val = tracks_features.index[tracks_features['split'] == 'validation']\n",
    "# test = tracks_features.index[tracks_features['split'] == 'test']\n",
    "\n",
    "# train = tracks_features.index[tracks_features['set', 'split'] == 'training']\n",
    "# val = tracks_features.index[tracks_features['set', 'split'] == 'validation']\n",
    "# test = tracks_features.index[tracks_features['set', 'split'] == 'test']\n",
    "\n",
    "# print('{} training examples, {} validation examples, {} testing examples'.format(*map(len, [train, val, test])))\n",
    "\n",
    "# genres = list(LabelEncoder().fit(tracks_features['track', 'genre_top']).classes_)\n",
    "# #genres = list(tracks['track', 'genre_top'].unique())\n",
    "# print('Top genres ({}): {}'.format(len(genres), genres))\n",
    "# genres = list(MultiLabelBinarizer().fit(tracks_features['track', 'genres_all']).classes_)\n",
    "# print('All genres ({}): {}'.format(len(genres), genres))"
   ]
  },
  {
   "cell_type": "code",
   "execution_count": null,
   "metadata": {},
   "outputs": [],
   "source": [
    "# enc = LabelEncoder()\n",
    "# labels = tracks_features['genre_top']\n",
    "\n",
    "# # Split in training, validation and testing sets.\n",
    "# y_train = enc.fit_transform(labels[train])\n",
    "# y_val = enc.transform(labels[val])\n",
    "# y_test = enc.transform(labels[test])\n",
    "\n",
    "# X_train = enc.fit_transform(features[train])\n",
    "# X_val = enc.transform(features[val])\n",
    "# X_test = enc.transform(features[test])\n",
    "\n",
    "# X_train = features.loc[train].to_numpy()\n",
    "# X_val = features.loc[val].to_numpy()\n",
    "# X_test = features.loc[test, columns].to_numpy()\n",
    "    \n",
    "# X_train, y_train = shuffle(X_train, y_train, random_state=42)\n",
    "    \n",
    "# Standardize features by removing the mean and scaling to unit variance.\n",
    "# scaler = StandardScaler(copy=False)\n",
    "# scaler.fit_transform(X_train)\n",
    "# scaler.transform(X_val)\n",
    "# scaler.transform(X_test)\n",
    "    "
   ]
  },
  {
   "cell_type": "code",
   "execution_count": null,
   "metadata": {},
   "outputs": [],
   "source": [
    "# y_train"
   ]
  },
  {
   "cell_type": "markdown",
   "metadata": {},
   "source": [
    "## Oversampling and undersampling"
   ]
  },
  {
   "cell_type": "code",
   "execution_count": null,
   "metadata": {},
   "outputs": [],
   "source": [
    "# !pip install imblearn"
   ]
  },
  {
   "cell_type": "code",
   "execution_count": null,
   "metadata": {},
   "outputs": [],
   "source": [
    "# import collections\n",
    "# from imblearn.over_sampling import RandomOverSampler\n",
    "# from imblearn.under_sampling import RandomUnderSampler"
   ]
  },
  {
   "cell_type": "code",
   "execution_count": null,
   "metadata": {},
   "outputs": [],
   "source": [
    "# def oversampling(X, y):\n",
    "#     print('before oversampling:', collections.Counter(y))\n",
    "    \n",
    "#     oversample = RandomOverSampler(sampling_strategy='auto')\n",
    "#     X_over, y_over = oversample.fit_resample(X, y)\n",
    "#     a = np.array(y_over)\n",
    "#     print('after oversampling:', collections.Counter(a))\n",
    "    \n",
    "#     y_over = pd.Series(y_over)\n",
    "#     return X_over, y_over"
   ]
  },
  {
   "cell_type": "code",
   "execution_count": null,
   "metadata": {},
   "outputs": [],
   "source": [
    "# def undersampling(X, y):\n",
    "#     print('before undersampling:', collections.Counter(y))\n",
    "    \n",
    "#     undersample = RandomUnderSampler(sampling_strategy='auto')\n",
    "#     X_under, y_under = undersample.fit_resample(X, y)\n",
    "#     a = np.array(y_under)\n",
    "#     print('after undersampling:', collections.Counter(a))\n",
    "    \n",
    "#     y_under = pd.Series(y_under)\n",
    "#     return X_under, y_under"
   ]
  },
  {
   "cell_type": "code",
   "execution_count": null,
   "metadata": {},
   "outputs": [],
   "source": [
    "# X_over, y_over = oversampling(X_train, y_train)"
   ]
  },
  {
   "cell_type": "code",
   "execution_count": null,
   "metadata": {},
   "outputs": [],
   "source": [
    "# X_under, y_under = undersampling(X_train, y_train)"
   ]
  },
  {
   "cell_type": "code",
   "execution_count": null,
   "metadata": {},
   "outputs": [],
   "source": []
  },
  {
   "cell_type": "code",
   "execution_count": null,
   "metadata": {},
   "outputs": [],
   "source": []
  },
  {
   "cell_type": "code",
   "execution_count": null,
   "metadata": {},
   "outputs": [],
   "source": []
  },
  {
   "cell_type": "code",
   "execution_count": null,
   "metadata": {},
   "outputs": [],
   "source": []
  },
  {
   "cell_type": "code",
   "execution_count": null,
   "metadata": {},
   "outputs": [],
   "source": []
  }
 ],
 "metadata": {
  "kernelspec": {
   "display_name": "Python 3",
   "language": "python",
   "name": "python3"
  },
  "language_info": {
   "codemirror_mode": {
    "name": "ipython",
    "version": 3
   },
   "file_extension": ".py",
   "mimetype": "text/x-python",
   "name": "python",
   "nbconvert_exporter": "python",
   "pygments_lexer": "ipython3",
   "version": "3.8.8"
  }
 },
 "nbformat": 4,
 "nbformat_minor": 4
}
